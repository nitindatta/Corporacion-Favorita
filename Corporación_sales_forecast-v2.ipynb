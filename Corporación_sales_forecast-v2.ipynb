{
 "cells": [
  {
   "cell_type": "code",
   "execution_count": 1,
   "metadata": {},
   "outputs": [],
   "source": [
    "%load_ext autoreload\n",
    "%autoreload 2\n",
    "\n",
    "%matplotlib inline"
   ]
  },
  {
   "cell_type": "code",
   "execution_count": 2,
   "metadata": {},
   "outputs": [],
   "source": [
    "from fastai.imports import *\n",
    "from fastai.structured import *\n",
    "\n",
    "from sklearn.ensemble import RandomForestRegressor"
   ]
  },
  {
   "cell_type": "code",
   "execution_count": 3,
   "metadata": {},
   "outputs": [],
   "source": [
    "types = {'id' : 'int64',\n",
    "        'item_nbr' : 'int32',  \n",
    "        'store_nbr' : 'int8',\n",
    "        'unit_sales' : 'float32', \n",
    "        'onpromotion' : 'object'}        "
   ]
  },
  {
   "cell_type": "code",
   "execution_count": 4,
   "metadata": {},
   "outputs": [
    {
     "data": {
      "text/html": [
       "<div>\n",
       "<style scoped>\n",
       "    .dataframe tbody tr th:only-of-type {\n",
       "        vertical-align: middle;\n",
       "    }\n",
       "\n",
       "    .dataframe tbody tr th {\n",
       "        vertical-align: top;\n",
       "    }\n",
       "\n",
       "    .dataframe thead th {\n",
       "        text-align: right;\n",
       "    }\n",
       "</style>\n",
       "<table border=\"1\" class=\"dataframe\">\n",
       "  <thead>\n",
       "    <tr style=\"text-align: right;\">\n",
       "      <th></th>\n",
       "      <th>id</th>\n",
       "      <th>date</th>\n",
       "      <th>store_nbr</th>\n",
       "      <th>item_nbr</th>\n",
       "      <th>onpromotion</th>\n",
       "    </tr>\n",
       "  </thead>\n",
       "  <tbody>\n",
       "    <tr>\n",
       "      <th>count</th>\n",
       "      <td>3.370464e+06</td>\n",
       "      <td>3370464</td>\n",
       "      <td>3.370464e+06</td>\n",
       "      <td>3.370464e+06</td>\n",
       "      <td>3370464</td>\n",
       "    </tr>\n",
       "    <tr>\n",
       "      <th>unique</th>\n",
       "      <td>NaN</td>\n",
       "      <td>16</td>\n",
       "      <td>NaN</td>\n",
       "      <td>NaN</td>\n",
       "      <td>2</td>\n",
       "    </tr>\n",
       "    <tr>\n",
       "      <th>top</th>\n",
       "      <td>NaN</td>\n",
       "      <td>2017-08-27 00:00:00</td>\n",
       "      <td>NaN</td>\n",
       "      <td>NaN</td>\n",
       "      <td>False</td>\n",
       "    </tr>\n",
       "    <tr>\n",
       "      <th>freq</th>\n",
       "      <td>NaN</td>\n",
       "      <td>210654</td>\n",
       "      <td>NaN</td>\n",
       "      <td>NaN</td>\n",
       "      <td>3171867</td>\n",
       "    </tr>\n",
       "    <tr>\n",
       "      <th>first</th>\n",
       "      <td>NaN</td>\n",
       "      <td>2017-08-16 00:00:00</td>\n",
       "      <td>NaN</td>\n",
       "      <td>NaN</td>\n",
       "      <td>NaN</td>\n",
       "    </tr>\n",
       "    <tr>\n",
       "      <th>last</th>\n",
       "      <td>NaN</td>\n",
       "      <td>2017-08-31 00:00:00</td>\n",
       "      <td>NaN</td>\n",
       "      <td>NaN</td>\n",
       "      <td>NaN</td>\n",
       "    </tr>\n",
       "    <tr>\n",
       "      <th>mean</th>\n",
       "      <td>1.271823e+08</td>\n",
       "      <td>NaN</td>\n",
       "      <td>2.750000e+01</td>\n",
       "      <td>1.244798e+06</td>\n",
       "      <td>NaN</td>\n",
       "    </tr>\n",
       "    <tr>\n",
       "      <th>std</th>\n",
       "      <td>9.729693e+05</td>\n",
       "      <td>NaN</td>\n",
       "      <td>1.558579e+01</td>\n",
       "      <td>5.898362e+05</td>\n",
       "      <td>NaN</td>\n",
       "    </tr>\n",
       "    <tr>\n",
       "      <th>min</th>\n",
       "      <td>1.254970e+08</td>\n",
       "      <td>NaN</td>\n",
       "      <td>1.000000e+00</td>\n",
       "      <td>9.699500e+04</td>\n",
       "      <td>NaN</td>\n",
       "    </tr>\n",
       "    <tr>\n",
       "      <th>25%</th>\n",
       "      <td>1.263397e+08</td>\n",
       "      <td>NaN</td>\n",
       "      <td>1.400000e+01</td>\n",
       "      <td>8.053210e+05</td>\n",
       "      <td>NaN</td>\n",
       "    </tr>\n",
       "    <tr>\n",
       "      <th>50%</th>\n",
       "      <td>1.271823e+08</td>\n",
       "      <td>NaN</td>\n",
       "      <td>2.750000e+01</td>\n",
       "      <td>1.294665e+06</td>\n",
       "      <td>NaN</td>\n",
       "    </tr>\n",
       "    <tr>\n",
       "      <th>75%</th>\n",
       "      <td>1.280249e+08</td>\n",
       "      <td>NaN</td>\n",
       "      <td>4.100000e+01</td>\n",
       "      <td>1.730015e+06</td>\n",
       "      <td>NaN</td>\n",
       "    </tr>\n",
       "    <tr>\n",
       "      <th>max</th>\n",
       "      <td>1.288675e+08</td>\n",
       "      <td>NaN</td>\n",
       "      <td>5.400000e+01</td>\n",
       "      <td>2.134244e+06</td>\n",
       "      <td>NaN</td>\n",
       "    </tr>\n",
       "  </tbody>\n",
       "</table>\n",
       "</div>"
      ],
      "text/plain": [
       "                  id                 date     store_nbr      item_nbr  \\\n",
       "count   3.370464e+06              3370464  3.370464e+06  3.370464e+06   \n",
       "unique           NaN                   16           NaN           NaN   \n",
       "top              NaN  2017-08-27 00:00:00           NaN           NaN   \n",
       "freq             NaN               210654           NaN           NaN   \n",
       "first            NaN  2017-08-16 00:00:00           NaN           NaN   \n",
       "last             NaN  2017-08-31 00:00:00           NaN           NaN   \n",
       "mean    1.271823e+08                  NaN  2.750000e+01  1.244798e+06   \n",
       "std     9.729693e+05                  NaN  1.558579e+01  5.898362e+05   \n",
       "min     1.254970e+08                  NaN  1.000000e+00  9.699500e+04   \n",
       "25%     1.263397e+08                  NaN  1.400000e+01  8.053210e+05   \n",
       "50%     1.271823e+08                  NaN  2.750000e+01  1.294665e+06   \n",
       "75%     1.280249e+08                  NaN  4.100000e+01  1.730015e+06   \n",
       "max     1.288675e+08                  NaN  5.400000e+01  2.134244e+06   \n",
       "\n",
       "       onpromotion  \n",
       "count      3370464  \n",
       "unique           2  \n",
       "top          False  \n",
       "freq       3171867  \n",
       "first          NaN  \n",
       "last           NaN  \n",
       "mean           NaN  \n",
       "std            NaN  \n",
       "min            NaN  \n",
       "25%            NaN  \n",
       "50%            NaN  \n",
       "75%            NaN  \n",
       "max            NaN  "
      ]
     },
     "execution_count": 4,
     "metadata": {},
     "output_type": "execute_result"
    }
   ],
   "source": [
    "df_test = pd.read_csv(f'data/test.csv', parse_dates = ['date'], dtype= types, infer_datetime_format = True)\n",
    "\n",
    "df_test.onpromotion.fillna(False, inplace=True)\n",
    "df_test.onpromotion = df_test.onpromotion.map({'False' : False, 'True' : True})\n",
    "df_test.onpromotion = df_test.onpromotion.astype(bool)\n",
    "\n",
    "df_test.describe(include='all')"
   ]
  },
  {
   "cell_type": "code",
   "execution_count": 9,
   "metadata": {},
   "outputs": [],
   "source": [
    "import feather\n",
    "df_subset = feather.read_dataframe('tmp/raw_groceries_subset')"
   ]
  },
  {
   "cell_type": "code",
   "execution_count": 13,
   "metadata": {},
   "outputs": [
    {
     "data": {
      "text/html": [
       "<div>\n",
       "<style scoped>\n",
       "    .dataframe tbody tr th:only-of-type {\n",
       "        vertical-align: middle;\n",
       "    }\n",
       "\n",
       "    .dataframe tbody tr th {\n",
       "        vertical-align: top;\n",
       "    }\n",
       "\n",
       "    .dataframe thead th {\n",
       "        text-align: right;\n",
       "    }\n",
       "</style>\n",
       "<table border=\"1\" class=\"dataframe\">\n",
       "  <thead>\n",
       "    <tr style=\"text-align: right;\">\n",
       "      <th></th>\n",
       "      <th>date</th>\n",
       "      <th>store_nbr</th>\n",
       "      <th>item_nbr</th>\n",
       "      <th>unit_sales</th>\n",
       "      <th>onpromotion</th>\n",
       "    </tr>\n",
       "  </thead>\n",
       "  <tbody>\n",
       "    <tr>\n",
       "      <th>8125665</th>\n",
       "      <td>2017-08-15</td>\n",
       "      <td>54</td>\n",
       "      <td>2089339</td>\n",
       "      <td>4.0</td>\n",
       "      <td>False</td>\n",
       "    </tr>\n",
       "    <tr>\n",
       "      <th>8125666</th>\n",
       "      <td>2017-08-15</td>\n",
       "      <td>54</td>\n",
       "      <td>2106464</td>\n",
       "      <td>1.0</td>\n",
       "      <td>True</td>\n",
       "    </tr>\n",
       "    <tr>\n",
       "      <th>8125667</th>\n",
       "      <td>2017-08-15</td>\n",
       "      <td>54</td>\n",
       "      <td>2110456</td>\n",
       "      <td>192.0</td>\n",
       "      <td>False</td>\n",
       "    </tr>\n",
       "    <tr>\n",
       "      <th>8125668</th>\n",
       "      <td>2017-08-15</td>\n",
       "      <td>54</td>\n",
       "      <td>2113914</td>\n",
       "      <td>198.0</td>\n",
       "      <td>True</td>\n",
       "    </tr>\n",
       "    <tr>\n",
       "      <th>8125669</th>\n",
       "      <td>2017-08-15</td>\n",
       "      <td>54</td>\n",
       "      <td>2116416</td>\n",
       "      <td>2.0</td>\n",
       "      <td>False</td>\n",
       "    </tr>\n",
       "  </tbody>\n",
       "</table>\n",
       "</div>"
      ],
      "text/plain": [
       "              date  store_nbr  item_nbr  unit_sales  onpromotion\n",
       "8125665 2017-08-15         54   2089339         4.0        False\n",
       "8125666 2017-08-15         54   2106464         1.0         True\n",
       "8125667 2017-08-15         54   2110456       192.0        False\n",
       "8125668 2017-08-15         54   2113914       198.0         True\n",
       "8125669 2017-08-15         54   2116416         2.0        False"
      ]
     },
     "execution_count": 13,
     "metadata": {},
     "output_type": "execute_result"
    }
   ],
   "source": [
    "df_subset = df_subset.drop(['index'], axis=1)\n",
    "df_subset.tail()"
   ]
  },
  {
   "cell_type": "code",
   "execution_count": 22,
   "metadata": {},
   "outputs": [],
   "source": [
    "dt_range = ['2017-07-16' , '2017-07-31']\n",
    "train = df_subset[~df_subset['date'].isin(dt_range)]\n",
    "valid = df_subset[df_subset['date'].isin(dt_range)]"
   ]
  },
  {
   "cell_type": "code",
   "execution_count": 24,
   "metadata": {},
   "outputs": [
    {
     "name": "stderr",
     "output_type": "stream",
     "text": [
      "C:\\Users\\ranata\\Anaconda3\\envs\\my_env\\fastai\\structured.py:118: SettingWithCopyWarning: \n",
      "A value is trying to be set on a copy of a slice from a DataFrame.\n",
      "Try using .loc[row_indexer,col_indexer] = value instead\n",
      "\n",
      "See the caveats in the documentation: http://pandas.pydata.org/pandas-docs/stable/indexing.html#indexing-view-versus-copy\n",
      "  for n in attr: df[targ_pre + n] = getattr(fld.dt, n.lower())\n",
      "C:\\Users\\ranata\\Anaconda3\\envs\\my_env\\fastai\\structured.py:119: SettingWithCopyWarning: \n",
      "A value is trying to be set on a copy of a slice from a DataFrame.\n",
      "Try using .loc[row_indexer,col_indexer] = value instead\n",
      "\n",
      "See the caveats in the documentation: http://pandas.pydata.org/pandas-docs/stable/indexing.html#indexing-view-versus-copy\n",
      "  df[targ_pre + 'Elapsed'] = fld.astype(np.int64) // 10 ** 9\n",
      "C:\\Users\\ranata\\Anaconda3\\envs\\my_env\\lib\\site-packages\\pandas\\core\\frame.py:3697: SettingWithCopyWarning: \n",
      "A value is trying to be set on a copy of a slice from a DataFrame\n",
      "\n",
      "See the caveats in the documentation: http://pandas.pydata.org/pandas-docs/stable/indexing.html#indexing-view-versus-copy\n",
      "  errors=errors)\n"
     ]
    },
    {
     "name": "stdout",
     "output_type": "stream",
     "text": [
      "Wall time: 7.6 s\n"
     ]
    }
   ],
   "source": [
    "%%time\n",
    "add_datepart(train, 'date')\n",
    "add_datepart(valid, 'date')"
   ]
  },
  {
   "cell_type": "code",
   "execution_count": null,
   "metadata": {},
   "outputs": [],
   "source": [
    "#%time df_subset.describe(include='all')"
   ]
  },
  {
   "cell_type": "code",
   "execution_count": null,
   "metadata": {},
   "outputs": [],
   "source": [
    "#%time df_subset.to_feather('tmp/processed_groceries_subset')"
   ]
  },
  {
   "cell_type": "code",
   "execution_count": 25,
   "metadata": {},
   "outputs": [
    {
     "name": "stderr",
     "output_type": "stream",
     "text": [
      "C:\\Users\\ranata\\Anaconda3\\envs\\my_env\\lib\\site-packages\\pandas\\core\\generic.py:4405: SettingWithCopyWarning: \n",
      "A value is trying to be set on a copy of a slice from a DataFrame.\n",
      "Try using .loc[row_indexer,col_indexer] = value instead\n",
      "\n",
      "See the caveats in the documentation: http://pandas.pydata.org/pandas-docs/stable/indexing.html#indexing-view-versus-copy\n",
      "  self[name] = value\n"
     ]
    }
   ],
   "source": [
    "train.unit_sales = np.log1p(np.clip(train.unit_sales, 0, None))\n",
    "valid.unit_sales = np.log1p(np.clip(valid.unit_sales, 0, None))"
   ]
  },
  {
   "cell_type": "code",
   "execution_count": null,
   "metadata": {},
   "outputs": [],
   "source": [
    "# df_subset.unit_sales = np.log1p(np.clip(df_subset.unit_sales, 0, None))"
   ]
  },
  {
   "cell_type": "code",
   "execution_count": null,
   "metadata": {},
   "outputs": [],
   "source": [
    "def split_vals(a, n): return a[:n].copy(), a[n:].copy()"
   ]
  },
  {
   "cell_type": "code",
   "execution_count": 26,
   "metadata": {},
   "outputs": [
    {
     "data": {
      "text/plain": [
       "((7907353, 17), (218317, 17))"
      ]
     },
     "execution_count": 26,
     "metadata": {},
     "output_type": "execute_result"
    }
   ],
   "source": [
    "# n_valid = len(df_test) + 5\n",
    "# n_trn = len(df_subset) - n_valid\n",
    "# train, valid = split_vals(df_subset, n_trn)\n",
    "train.shape, valid.shape"
   ]
  },
  {
   "cell_type": "code",
   "execution_count": 27,
   "metadata": {},
   "outputs": [],
   "source": [
    "def rmse(x, y): return math.sqrt(((x-y)**2).mean())\n",
    "\n",
    "def print_score(m):\n",
    "    res = [rmse(m.predict(x), y), rmse(m.predict(val), y_val),\n",
    "           m.score(x, y), m.score(val, y_val)]\n",
    "    if hasattr(m, 'oob_score_'): res.append(m.oob_score_)\n",
    "    print(res)"
   ]
  },
  {
   "cell_type": "code",
   "execution_count": 28,
   "metadata": {},
   "outputs": [],
   "source": [
    "y = np.array(train.unit_sales, dtype=np.float32)\n",
    "trn = train.drop(['unit_sales'], axis=1)\n",
    "y_val = np.array(valid.unit_sales, dtype=np.float32)\n",
    "val = np.array(valid.drop(['unit_sales'], axis=1), dtype=np.float32)"
   ]
  },
  {
   "cell_type": "code",
   "execution_count": 29,
   "metadata": {},
   "outputs": [
    {
     "name": "stdout",
     "output_type": "stream",
     "text": [
      "Wall time: 6.32 s\n"
     ]
    }
   ],
   "source": [
    "%time x = np.array(trn, dtype = np.float32)"
   ]
  },
  {
   "cell_type": "code",
   "execution_count": 30,
   "metadata": {
    "scrolled": true
   },
   "outputs": [
    {
     "name": "stdout",
     "output_type": "stream",
     "text": [
      "Wall time: 2min 6s\n",
      "[0.6584733312254023, 0.6858130333319725, 0.4269671890909639, 0.417090349153601]\n",
      "Wall time: 12.8 s\n"
     ]
    }
   ],
   "source": [
    "m = RandomForestRegressor(n_estimators=10, min_samples_leaf=100, n_jobs=4)\n",
    "%time m.fit(x, y)\n",
    "%time print_score(m)"
   ]
  },
  {
   "cell_type": "code",
   "execution_count": 31,
   "metadata": {},
   "outputs": [
    {
     "name": "stdout",
     "output_type": "stream",
     "text": [
      "Wall time: 12min 6s\n",
      "[0.3610874946376816, 0.5086951319631764, 0.8276830476441468, 0.6792955837921277]\n",
      "Wall time: 3min 20s\n"
     ]
    }
   ],
   "source": [
    "m = RandomForestRegressor(n_estimators=50, min_samples_leaf=3, n_jobs=-1)\n",
    "%time m.fit(x, y)\n",
    "%time print_score(m)"
   ]
  },
  {
   "cell_type": "code",
   "execution_count": null,
   "metadata": {},
   "outputs": [],
   "source": []
  }
 ],
 "metadata": {
  "kernelspec": {
   "display_name": "Python 3",
   "language": "python",
   "name": "python3"
  },
  "language_info": {
   "codemirror_mode": {
    "name": "ipython",
    "version": 3
   },
   "file_extension": ".py",
   "mimetype": "text/x-python",
   "name": "python",
   "nbconvert_exporter": "python",
   "pygments_lexer": "ipython3",
   "version": "3.6.6"
  }
 },
 "nbformat": 4,
 "nbformat_minor": 2
}
